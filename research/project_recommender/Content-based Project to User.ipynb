{
 "cells": [
  {
   "cell_type": "markdown",
   "metadata": {},
   "source": [
    "# Setup Django"
   ]
  },
  {
   "cell_type": "code",
   "execution_count": 1,
   "metadata": {},
   "outputs": [],
   "source": [
    "import os, sys\n",
    "# PWD = os.getenv('PWD')\n",
    "# os.chdir(PWD)\n",
    "# sys.path.insert(0, os.getenv('PWD'))\n",
    "# os.environ.setdefault(\"DJANGO_SETTINGS_MODULE\", \"local_settings.py\")\n",
    "# import django\n",
    "# django.setup()"
   ]
  },
  {
   "cell_type": "code",
   "execution_count": 2,
   "metadata": {},
   "outputs": [],
   "source": [
    "os.environ[\"DJANGO_ALLOW_ASYNC_UNSAFE\"] = \"true\""
   ]
  },
  {
   "cell_type": "markdown",
   "metadata": {},
   "source": [
    "# Preprocessing"
   ]
  },
  {
   "cell_type": "code",
   "execution_count": 25,
   "metadata": {},
   "outputs": [],
   "source": [
    "from apps.kstorage.models import User, Project\n",
    "import pandas as pd\n",
    "import numpy as np\n",
    "import joblib"
   ]
  },
  {
   "cell_type": "code",
   "execution_count": 4,
   "metadata": {},
   "outputs": [
    {
     "data": {
      "text/html": [
       "<div>\n",
       "<style scoped>\n",
       "    .dataframe tbody tr th:only-of-type {\n",
       "        vertical-align: middle;\n",
       "    }\n",
       "\n",
       "    .dataframe tbody tr th {\n",
       "        vertical-align: top;\n",
       "    }\n",
       "\n",
       "    .dataframe thead th {\n",
       "        text-align: right;\n",
       "    }\n",
       "</style>\n",
       "<table border=\"1\" class=\"dataframe\">\n",
       "  <thead>\n",
       "    <tr style=\"text-align: right;\">\n",
       "      <th></th>\n",
       "      <th>id</th>\n",
       "      <th>email</th>\n",
       "      <th>role</th>\n",
       "      <th>faculty_id</th>\n",
       "      <th>expertises</th>\n",
       "      <th>skills</th>\n",
       "      <th>year</th>\n",
       "    </tr>\n",
       "  </thead>\n",
       "  <tbody>\n",
       "    <tr>\n",
       "      <th>13</th>\n",
       "      <td>13</td>\n",
       "      <td>ben@gmail.com</td>\n",
       "      <td>student</td>\n",
       "      <td>1</td>\n",
       "      <td>[[2763, -1, -1]]</td>\n",
       "      <td>[Chinese, Excel]</td>\n",
       "      <td>1</td>\n",
       "    </tr>\n",
       "    <tr>\n",
       "      <th>14</th>\n",
       "      <td>14</td>\n",
       "      <td>user1@gmail.com</td>\n",
       "      <td>student</td>\n",
       "      <td>1</td>\n",
       "      <td>[[2763, -1, -1], [4819, 4820, 4842], [2912, 29...</td>\n",
       "      <td>[quantum]</td>\n",
       "      <td>1</td>\n",
       "    </tr>\n",
       "    <tr>\n",
       "      <th>5</th>\n",
       "      <td>5</td>\n",
       "      <td>earn@gmail.com</td>\n",
       "      <td>student</td>\n",
       "      <td>2</td>\n",
       "      <td>[[2763, 2813, -1]]</td>\n",
       "      <td>[AstronomicalScience, English]</td>\n",
       "      <td>1</td>\n",
       "    </tr>\n",
       "    <tr>\n",
       "      <th>4</th>\n",
       "      <td>4</td>\n",
       "      <td>eit@gmail.com</td>\n",
       "      <td>student</td>\n",
       "      <td>3</td>\n",
       "      <td>[[2838, 2859, 2863]]</td>\n",
       "      <td>[React]</td>\n",
       "      <td>1</td>\n",
       "    </tr>\n",
       "  </tbody>\n",
       "</table>\n",
       "</div>"
      ],
      "text/plain": [
       "    id            email     role  faculty_id  \\\n",
       "13  13    ben@gmail.com  student           1   \n",
       "14  14  user1@gmail.com  student           1   \n",
       "5    5   earn@gmail.com  student           2   \n",
       "4    4    eit@gmail.com  student           3   \n",
       "\n",
       "                                           expertises  \\\n",
       "13                                   [[2763, -1, -1]]   \n",
       "14  [[2763, -1, -1], [4819, 4820, 4842], [2912, 29...   \n",
       "5                                  [[2763, 2813, -1]]   \n",
       "4                                [[2838, 2859, 2863]]   \n",
       "\n",
       "                            skills year  \n",
       "13                [Chinese, Excel]    1  \n",
       "14                       [quantum]    1  \n",
       "5   [AstronomicalScience, English]    1  \n",
       "4                          [React]    1  "
      ]
     },
     "execution_count": 4,
     "metadata": {},
     "output_type": "execute_result"
    }
   ],
   "source": [
    "# Create user dataframe\n",
    "u_df = pd.DataFrame(list(User.objects.all().values()), index=User.objects.values_list('id', flat=True))\n",
    "u_df.head()"
   ]
  },
  {
   "cell_type": "code",
   "execution_count": 5,
   "metadata": {},
   "outputs": [
    {
     "data": {
      "text/html": [
       "<div>\n",
       "<style scoped>\n",
       "    .dataframe tbody tr th:only-of-type {\n",
       "        vertical-align: middle;\n",
       "    }\n",
       "\n",
       "    .dataframe tbody tr th {\n",
       "        vertical-align: top;\n",
       "    }\n",
       "\n",
       "    .dataframe thead th {\n",
       "        text-align: right;\n",
       "    }\n",
       "</style>\n",
       "<table border=\"1\" class=\"dataframe\">\n",
       "  <thead>\n",
       "    <tr style=\"text-align: right;\">\n",
       "      <th></th>\n",
       "      <th>id</th>\n",
       "      <th>title</th>\n",
       "      <th>project_status</th>\n",
       "      <th>categories</th>\n",
       "      <th>tags</th>\n",
       "      <th>created_at</th>\n",
       "      <th>updated_at</th>\n",
       "    </tr>\n",
       "  </thead>\n",
       "  <tbody>\n",
       "    <tr>\n",
       "      <th>64</th>\n",
       "      <td>64</td>\n",
       "      <td>Web project KMITL</td>\n",
       "      <td>None</td>\n",
       "      <td>[[2422, -1, -1], [2422, 2423, 2425]]</td>\n",
       "      <td>[kmitl, web, project]</td>\n",
       "      <td>2020-03-22 10:19:12.782000+00:00</td>\n",
       "      <td>2020-03-22 10:19:12.782000+00:00</td>\n",
       "    </tr>\n",
       "    <tr>\n",
       "      <th>65</th>\n",
       "      <td>65</td>\n",
       "      <td>This is the second project</td>\n",
       "      <td>None</td>\n",
       "      <td>[[2520, 2521, 2522], [2520, 2521, 2525]]</td>\n",
       "      <td>[second, hello]</td>\n",
       "      <td>2020-03-22 12:53:32.268000+00:00</td>\n",
       "      <td>2020-03-22 12:53:32.268000+00:00</td>\n",
       "    </tr>\n",
       "    <tr>\n",
       "      <th>66</th>\n",
       "      <td>66</td>\n",
       "      <td>Drone for delivery in KMITL</td>\n",
       "      <td>None</td>\n",
       "      <td>[[2585, 2618, 2622], [2585, 2618, 2625]]</td>\n",
       "      <td>[drone, delivery]</td>\n",
       "      <td>2020-03-22 13:43:23.884000+00:00</td>\n",
       "      <td>2020-03-22 13:43:23.884000+00:00</td>\n",
       "    </tr>\n",
       "    <tr>\n",
       "      <th>67</th>\n",
       "      <td>67</td>\n",
       "      <td>This is a new project</td>\n",
       "      <td>None</td>\n",
       "      <td>[[2673, 2713, 2722], [2673, 2713, 2725]]</td>\n",
       "      <td>[new]</td>\n",
       "      <td>2020-03-28 13:12:35.584000+00:00</td>\n",
       "      <td>2020-03-28 13:12:35.584000+00:00</td>\n",
       "    </tr>\n",
       "    <tr>\n",
       "      <th>68</th>\n",
       "      <td>68</td>\n",
       "      <td>This is a very long long long long name project</td>\n",
       "      <td>None</td>\n",
       "      <td>[[2763, 2820, 2822], [2763, 2820, 2825]]</td>\n",
       "      <td>[loggggertag, loooooooooooong-tag, LongggggggL...</td>\n",
       "      <td>2020-03-28 15:30:00.773000+00:00</td>\n",
       "      <td>2020-03-28 15:30:00.773000+00:00</td>\n",
       "    </tr>\n",
       "  </tbody>\n",
       "</table>\n",
       "</div>"
      ],
      "text/plain": [
       "    id                                            title project_status  \\\n",
       "64  64                                Web project KMITL           None   \n",
       "65  65                       This is the second project           None   \n",
       "66  66                      Drone for delivery in KMITL           None   \n",
       "67  67                            This is a new project           None   \n",
       "68  68  This is a very long long long long name project           None   \n",
       "\n",
       "                                  categories  \\\n",
       "64      [[2422, -1, -1], [2422, 2423, 2425]]   \n",
       "65  [[2520, 2521, 2522], [2520, 2521, 2525]]   \n",
       "66  [[2585, 2618, 2622], [2585, 2618, 2625]]   \n",
       "67  [[2673, 2713, 2722], [2673, 2713, 2725]]   \n",
       "68  [[2763, 2820, 2822], [2763, 2820, 2825]]   \n",
       "\n",
       "                                                 tags  \\\n",
       "64                              [kmitl, web, project]   \n",
       "65                                    [second, hello]   \n",
       "66                                  [drone, delivery]   \n",
       "67                                              [new]   \n",
       "68  [loggggertag, loooooooooooong-tag, LongggggggL...   \n",
       "\n",
       "                         created_at                       updated_at  \n",
       "64 2020-03-22 10:19:12.782000+00:00 2020-03-22 10:19:12.782000+00:00  \n",
       "65 2020-03-22 12:53:32.268000+00:00 2020-03-22 12:53:32.268000+00:00  \n",
       "66 2020-03-22 13:43:23.884000+00:00 2020-03-22 13:43:23.884000+00:00  \n",
       "67 2020-03-28 13:12:35.584000+00:00 2020-03-28 13:12:35.584000+00:00  \n",
       "68 2020-03-28 15:30:00.773000+00:00 2020-03-28 15:30:00.773000+00:00  "
      ]
     },
     "execution_count": 5,
     "metadata": {},
     "output_type": "execute_result"
    }
   ],
   "source": [
    "# Create project dataframe\n",
    "p_df = pd.DataFrame(list(Project.objects.all().values()), index=Project.objects.values_list('id', flat=True))\n",
    "p_df.head()"
   ]
  },
  {
   "cell_type": "markdown",
   "metadata": {},
   "source": [
    "# Recommend Project to User based on its contents\n",
    "Recommend a project P to user U based on U's `fields`, `department`, and `skills` and P's `fields` and `tags`."
   ]
  },
  {
   "cell_type": "markdown",
   "metadata": {},
   "source": [
    "## Based on Project's and User's fields\n",
    "Create an empty matrix of relation between users and projects. `index` is user id. `column` is project id."
   ]
  },
  {
   "cell_type": "markdown",
   "metadata": {},
   "source": [
    "### Similarity function\n",
    "`field_similarity(f1, f2)` is a method that calculate similarity of 2 fields.\n",
    "\n",
    "Similarity range from [0, 1]. **0** means not similar at all. **1** means exactly the same.\n",
    "\n",
    "Example input: `field_a = [1,2,3]`, `field_b = [1,2-1]`\n",
    "\n",
    "`field_a` is `3`. \n",
    "- Field `3` is in **group** `2` and **division** `1`.\n",
    "\n",
    "`field_b` is `2`.\n",
    "- Field `2` is **group** in **division** `1`."
   ]
  },
  {
   "cell_type": "code",
   "execution_count": 11,
   "metadata": {},
   "outputs": [],
   "source": [
    "import itertools\n",
    "import math\n",
    "from scipy.spatial.distance import cosine\n",
    "\n",
    "class FieldSimCalculator:\n",
    "    def field_similarity(self, f1, f2):\n",
    "        if f1[0] == f2[0]:\n",
    "            if f1[1] == f2[1]:\n",
    "                if f1[2] == f2[2]:\n",
    "                    return 1\n",
    "                return 0.7\n",
    "            return 0.3\n",
    "        return 0\n",
    "\n",
    "    def unique_fields(self, field_list_1, field_list_2):\n",
    "        '''\n",
    "            Return a list of unique fields\n",
    "            e.g. [[1,2],[8,9]] + [[8,9],[10,11]] = [[1,2],[8,9],[10,11]]\n",
    "        '''\n",
    "        f = field_list_1 + field_list_2\n",
    "        f.sort()\n",
    "        return list(f for f,_ in itertools.groupby(f))\n",
    "    \n",
    "    def calc_sim_by_fields(self, field_list_1, field_list_2):\n",
    "        unique = self.unique_fields(field_list_1, field_list_2)\n",
    "        sim_list_1 = list()\n",
    "        sim_list_2 = list()\n",
    "        for field in unique:\n",
    "            # Similarity vector of list of fields 1\n",
    "            sim_temp = []\n",
    "            for f1 in field_list_1:\n",
    "                sim_temp.append(self.field_similarity(field, f1))\n",
    "            sim_list_1.append(max(sim_temp))\n",
    "\n",
    "            # Similarity vector of list of fields 2\n",
    "            sim_temp = []\n",
    "            for f2 in field_list_2:\n",
    "                sim_temp.append(self.field_similarity(field, f2))\n",
    "            sim_list_2.append(max(sim_temp))\n",
    "\n",
    "        val_out = 1 - cosine(sim_list_1, sim_list_2)\n",
    "\n",
    "#         print(unique)\n",
    "#         print(sim_list_1)\n",
    "#         print(sim_list_2)\n",
    "#         print(\"cosine sim:\", val_out)\n",
    "#         print(\"--------\")\n",
    "\n",
    "        return val_out"
   ]
  },
  {
   "cell_type": "code",
   "execution_count": 7,
   "metadata": {},
   "outputs": [
    {
     "name": "stdout",
     "output_type": "stream",
     "text": [
      "1\n",
      "0.7\n",
      "0.3\n",
      "0\n"
     ]
    }
   ],
   "source": [
    "f_sim_calc = FieldSimCalculator()\n",
    "# Example of field_similarity usage\n",
    "print(f_sim_calc.field_similarity([1,2,3], [1,2,3]))\n",
    "print(f_sim_calc.field_similarity([1,2,3], [1,2,-1]))\n",
    "print(f_sim_calc.field_similarity([1,2,3], [1,-1,-1]))\n",
    "print(f_sim_calc.field_similarity([1,2,3], [7,9,10]))"
   ]
  },
  {
   "cell_type": "markdown",
   "metadata": {},
   "source": [
    "`calc_sim_by_fields(fields_1, fields_2)` is a method that calculate similarity of 2 **list** of fields.\n",
    "\n",
    "Similarity range from [0, 1]. **0** means not similar at all. **1** means exactly the same. It is calculated using **cosine similarity** of 2 vectors.\n",
    "\n",
    "Example input: `fields_a = [[1,2,3], [4,5,-1]]` and `fields_b = [[1,-1,-1], [7,-1,-1]]`\n",
    "\n",
    "`fields_a` contains 2 fields, `3` and `5`. \n",
    "- Field `3` is in **group** `2` and **division** `1`. \n",
    "- Field `5` is a **group** in **division** `4`.\n",
    "\n",
    "\n",
    "** Inspired by [this answer on stackoverflow](https://stackoverflow.com/questions/1746501/can-someone-give-an-example-of-cosine-similarity-in-a-very-simple-graphical-wa)"
   ]
  },
  {
   "cell_type": "code",
   "execution_count": 8,
   "metadata": {},
   "outputs": [
    {
     "name": "stdout",
     "output_type": "stream",
     "text": [
      "[[1, 2, 3], [4, 5, 6], [7, 8, 9]]\n",
      "[1, 1, 1]\n",
      "[1, 1, 1]\n",
      "cosine sim: 1.0\n",
      "--------\n",
      "[[1, 2, 3], [4, 5, -1], [4, 5, 6], [7, 8, 9]]\n",
      "[1, 1, 0.7, 1]\n",
      "[1, 0.7, 1, 1]\n",
      "cosine sim: 0.9742120343839542\n",
      "--------\n",
      "[[1, 2, 3], [4, 5, 6], [7, 8, 9]]\n",
      "[1, 0, 1]\n",
      "[1, 1, 1]\n",
      "cosine sim: 0.816496580927726\n",
      "--------\n",
      "[[1, 2, 3], [4, 5, 6], [7, 8, 9]]\n",
      "[1, 0, 0]\n",
      "[0, 1, 1]\n",
      "cosine sim: 0.0\n",
      "--------\n"
     ]
    },
    {
     "data": {
      "text/plain": [
       "0.0"
      ]
     },
     "execution_count": 8,
     "metadata": {},
     "output_type": "execute_result"
    }
   ],
   "source": [
    "f_sim_calc = FieldSimCalculator()\n",
    "\n",
    "f_sim_calc.calc_sim_by_fields([[4,5,6], [7,8,9], [1,2,3]], [[1,2,3], [4,5,6], [7,8,9]])\n",
    "\n",
    "f_sim_calc.calc_sim_by_fields([[4,5,-1], [7,8,9], [1,2,3]], [[1,2,3], [4,5,6], [7,8,9]])\n",
    "\n",
    "f_sim_calc.calc_sim_by_fields([[7,8,9], [1,2,3]], [[1,2,3], [4,5,6], [7,8,9]])\n",
    "\n",
    "f_sim_calc.calc_sim_by_fields([[1,2,3]], [[4,5,6], [7,8,9]])"
   ]
  },
  {
   "cell_type": "markdown",
   "metadata": {},
   "source": [
    "### Calculate similarity of user and project"
   ]
  },
  {
   "cell_type": "code",
   "execution_count": 37,
   "metadata": {},
   "outputs": [],
   "source": [
    "from recommender.settings import BASE_DIR\n",
    "import joblib\n",
    "\n",
    "class UserProjectSimilarity:\n",
    "    def __init__(self):\n",
    "        self.users = User.objects.all()\n",
    "        self.projects = Project.objects.all()\n",
    "        self.sim_calc = FieldSimCalculator()\n",
    "        self.user_project_df = self.create_sim_table()\n",
    "\n",
    "    def create_sim_table(self):\n",
    "        # Create empty similarity table\n",
    "        user_ids = User.objects.values_list('id', flat=True)\n",
    "        project_ids = Project.objects.values_list('id', flat=True)\n",
    "        user_project_df = pd.DataFrame(index=user_ids, columns=project_ids)\n",
    "        return user_project_df\n",
    "\n",
    "    def fill_sim_table(self):\n",
    "        for user in self.users:\n",
    "            for project in self.projects:\n",
    "                u_fields = user.expertises\n",
    "                p_fields = project.categories\n",
    "                sim = self.sim_calc.calc_sim_by_fields(u_fields, p_fields)\n",
    "                self.user_project_df.loc[user.id, project.id] = sim\n",
    "        return self.user_project_df\n",
    "    \n",
    "    def get_sim_table(self):\n",
    "        return self.user_project_df\n",
    "        \n",
    "    def dump_sim_table(self, filename=\"user_project_sim_table.joblib\"):\n",
    "        path = BASE_DIR + \"/research/project_recommender/\" + filename\n",
    "        joblib.dump(self.user_project_df, path)\n",
    "\n"
   ]
  },
  {
   "cell_type": "code",
   "execution_count": 38,
   "metadata": {},
   "outputs": [
    {
     "data": {
      "text/html": [
       "<div>\n",
       "<style scoped>\n",
       "    .dataframe tbody tr th:only-of-type {\n",
       "        vertical-align: middle;\n",
       "    }\n",
       "\n",
       "    .dataframe tbody tr th {\n",
       "        vertical-align: top;\n",
       "    }\n",
       "\n",
       "    .dataframe thead th {\n",
       "        text-align: right;\n",
       "    }\n",
       "</style>\n",
       "<table border=\"1\" class=\"dataframe\">\n",
       "  <thead>\n",
       "    <tr style=\"text-align: right;\">\n",
       "      <th></th>\n",
       "      <th>64</th>\n",
       "      <th>65</th>\n",
       "      <th>66</th>\n",
       "      <th>67</th>\n",
       "      <th>68</th>\n",
       "    </tr>\n",
       "  </thead>\n",
       "  <tbody>\n",
       "    <tr>\n",
       "      <th>13</th>\n",
       "      <td>NaN</td>\n",
       "      <td>NaN</td>\n",
       "      <td>NaN</td>\n",
       "      <td>NaN</td>\n",
       "      <td>NaN</td>\n",
       "    </tr>\n",
       "    <tr>\n",
       "      <th>14</th>\n",
       "      <td>NaN</td>\n",
       "      <td>NaN</td>\n",
       "      <td>NaN</td>\n",
       "      <td>NaN</td>\n",
       "      <td>NaN</td>\n",
       "    </tr>\n",
       "    <tr>\n",
       "      <th>5</th>\n",
       "      <td>NaN</td>\n",
       "      <td>NaN</td>\n",
       "      <td>NaN</td>\n",
       "      <td>NaN</td>\n",
       "      <td>NaN</td>\n",
       "    </tr>\n",
       "    <tr>\n",
       "      <th>4</th>\n",
       "      <td>NaN</td>\n",
       "      <td>NaN</td>\n",
       "      <td>NaN</td>\n",
       "      <td>NaN</td>\n",
       "      <td>NaN</td>\n",
       "    </tr>\n",
       "  </tbody>\n",
       "</table>\n",
       "</div>"
      ],
      "text/plain": [
       "     64   65   66   67   68\n",
       "13  NaN  NaN  NaN  NaN  NaN\n",
       "14  NaN  NaN  NaN  NaN  NaN\n",
       "5   NaN  NaN  NaN  NaN  NaN\n",
       "4   NaN  NaN  NaN  NaN  NaN"
      ]
     },
     "execution_count": 38,
     "metadata": {},
     "output_type": "execute_result"
    }
   ],
   "source": [
    "u_p_sim = UserProjectSimilarity()\n",
    "u_p_sim.create_sim_table()"
   ]
  },
  {
   "cell_type": "code",
   "execution_count": 39,
   "metadata": {},
   "outputs": [
    {
     "data": {
      "text/html": [
       "<div>\n",
       "<style scoped>\n",
       "    .dataframe tbody tr th:only-of-type {\n",
       "        vertical-align: middle;\n",
       "    }\n",
       "\n",
       "    .dataframe tbody tr th {\n",
       "        vertical-align: top;\n",
       "    }\n",
       "\n",
       "    .dataframe thead th {\n",
       "        text-align: right;\n",
       "    }\n",
       "</style>\n",
       "<table border=\"1\" class=\"dataframe\">\n",
       "  <thead>\n",
       "    <tr style=\"text-align: right;\">\n",
       "      <th></th>\n",
       "      <th>64</th>\n",
       "      <th>65</th>\n",
       "      <th>66</th>\n",
       "      <th>67</th>\n",
       "      <th>68</th>\n",
       "    </tr>\n",
       "  </thead>\n",
       "  <tbody>\n",
       "    <tr>\n",
       "      <th>13</th>\n",
       "      <td>0</td>\n",
       "      <td>0</td>\n",
       "      <td>0</td>\n",
       "      <td>0</td>\n",
       "      <td>0.573097</td>\n",
       "    </tr>\n",
       "    <tr>\n",
       "      <th>14</th>\n",
       "      <td>0</td>\n",
       "      <td>0</td>\n",
       "      <td>0</td>\n",
       "      <td>0</td>\n",
       "      <td>0.349105</td>\n",
       "    </tr>\n",
       "    <tr>\n",
       "      <th>5</th>\n",
       "      <td>0</td>\n",
       "      <td>0</td>\n",
       "      <td>0</td>\n",
       "      <td>0</td>\n",
       "      <td>0.573097</td>\n",
       "    </tr>\n",
       "    <tr>\n",
       "      <th>4</th>\n",
       "      <td>0</td>\n",
       "      <td>0</td>\n",
       "      <td>0</td>\n",
       "      <td>0</td>\n",
       "      <td>0</td>\n",
       "    </tr>\n",
       "  </tbody>\n",
       "</table>\n",
       "</div>"
      ],
      "text/plain": [
       "   64 65 66 67        68\n",
       "13  0  0  0  0  0.573097\n",
       "14  0  0  0  0  0.349105\n",
       "5   0  0  0  0  0.573097\n",
       "4   0  0  0  0         0"
      ]
     },
     "execution_count": 39,
     "metadata": {},
     "output_type": "execute_result"
    }
   ],
   "source": [
    "u_p_sim.fill_sim_table()"
   ]
  },
  {
   "cell_type": "code",
   "execution_count": 40,
   "metadata": {},
   "outputs": [],
   "source": [
    "u_p_sim.dump_sim_table()"
   ]
  },
  {
   "cell_type": "markdown",
   "metadata": {},
   "source": [
    "## Based on Projects that a User interacts with in the past"
   ]
  },
  {
   "cell_type": "markdown",
   "metadata": {},
   "source": [
    "### How to compare similarity of two projects P and Q\n",
    "- Fields\n",
    "- Tags\n",
    "- Members"
   ]
  },
  {
   "cell_type": "code",
   "execution_count": null,
   "metadata": {},
   "outputs": [],
   "source": []
  }
 ],
 "metadata": {
  "kernelspec": {
   "display_name": "Django Shell-Plus",
   "language": "python",
   "name": "django_extensions"
  },
  "language_info": {
   "codemirror_mode": {
    "name": "ipython",
    "version": 3
   },
   "file_extension": ".py",
   "mimetype": "text/x-python",
   "name": "python",
   "nbconvert_exporter": "python",
   "pygments_lexer": "ipython3",
   "version": "3.7.7"
  }
 },
 "nbformat": 4,
 "nbformat_minor": 4
}
