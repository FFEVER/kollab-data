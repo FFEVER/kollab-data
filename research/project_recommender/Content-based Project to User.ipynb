{
 "cells": [
  {
   "cell_type": "markdown",
   "metadata": {},
   "source": [
    "# Setup Django"
   ]
  },
  {
   "cell_type": "code",
   "execution_count": 1,
   "metadata": {},
   "outputs": [],
   "source": [
    "import os, sys\n",
    "# PWD = os.getenv('PWD')\n",
    "# os.chdir(PWD)\n",
    "# sys.path.insert(0, os.getenv('PWD'))\n",
    "# os.environ.setdefault(\"DJANGO_SETTINGS_MODULE\", \"local_settings.py\")\n",
    "# import django\n",
    "# django.setup()"
   ]
  },
  {
   "cell_type": "code",
   "execution_count": 2,
   "metadata": {},
   "outputs": [],
   "source": [
    "os.environ[\"DJANGO_ALLOW_ASYNC_UNSAFE\"] = \"true\""
   ]
  },
  {
   "cell_type": "markdown",
   "metadata": {},
   "source": [
    "# Preprocessing"
   ]
  },
  {
   "cell_type": "code",
   "execution_count": 3,
   "metadata": {},
   "outputs": [],
   "source": [
    "from apps.kstorage.models import User, Project\n",
    "import pandas as pd\n",
    "import numpy as np"
   ]
  },
  {
   "cell_type": "code",
   "execution_count": 4,
   "metadata": {},
   "outputs": [
    {
     "data": {
      "text/html": [
       "<div>\n",
       "<style scoped>\n",
       "    .dataframe tbody tr th:only-of-type {\n",
       "        vertical-align: middle;\n",
       "    }\n",
       "\n",
       "    .dataframe tbody tr th {\n",
       "        vertical-align: top;\n",
       "    }\n",
       "\n",
       "    .dataframe thead th {\n",
       "        text-align: right;\n",
       "    }\n",
       "</style>\n",
       "<table border=\"1\" class=\"dataframe\">\n",
       "  <thead>\n",
       "    <tr style=\"text-align: right;\">\n",
       "      <th></th>\n",
       "      <th>id</th>\n",
       "      <th>email</th>\n",
       "      <th>role</th>\n",
       "      <th>faculty_id</th>\n",
       "      <th>fields</th>\n",
       "      <th>skills</th>\n",
       "      <th>joined_projects</th>\n",
       "      <th>starred_projects</th>\n",
       "      <th>viewed_projects</th>\n",
       "      <th>followed_projects</th>\n",
       "      <th>year</th>\n",
       "    </tr>\n",
       "  </thead>\n",
       "  <tbody>\n",
       "    <tr>\n",
       "      <th>4</th>\n",
       "      <td>4</td>\n",
       "      <td>eit@gmail.com</td>\n",
       "      <td>student</td>\n",
       "      <td>3</td>\n",
       "      <td>[[2838, 2859, 2863], [2673, -1, -1]]</td>\n",
       "      <td>[React]</td>\n",
       "      <td>[65, 64]</td>\n",
       "      <td>[64]</td>\n",
       "      <td>[]</td>\n",
       "      <td>[64, 68, 66, 67]</td>\n",
       "      <td>1</td>\n",
       "    </tr>\n",
       "    <tr>\n",
       "      <th>14</th>\n",
       "      <td>14</td>\n",
       "      <td>user1@gmail.com</td>\n",
       "      <td>student</td>\n",
       "      <td>3</td>\n",
       "      <td>[[2585, -1, -1], [2469, -1, -1]]</td>\n",
       "      <td>[dsd, sdf, dsers]</td>\n",
       "      <td>[73, 72, 70, 69]</td>\n",
       "      <td>[69]</td>\n",
       "      <td>[69, 65, 66]</td>\n",
       "      <td>[69]</td>\n",
       "      <td>3</td>\n",
       "    </tr>\n",
       "    <tr>\n",
       "      <th>13</th>\n",
       "      <td>13</td>\n",
       "      <td>ben@gmail.com</td>\n",
       "      <td>student</td>\n",
       "      <td>1</td>\n",
       "      <td>[[2763, -1, -1]]</td>\n",
       "      <td>[Chinese, Excel]</td>\n",
       "      <td>[]</td>\n",
       "      <td>[67, 66, 65, 64]</td>\n",
       "      <td>[]</td>\n",
       "      <td>[65, 64, 68, 67, 66]</td>\n",
       "      <td>1</td>\n",
       "    </tr>\n",
       "    <tr>\n",
       "      <th>5</th>\n",
       "      <td>5</td>\n",
       "      <td>earn@gmail.com</td>\n",
       "      <td>student</td>\n",
       "      <td>2</td>\n",
       "      <td>[[2763, 2813, -1]]</td>\n",
       "      <td>[AstronomicalScience, English]</td>\n",
       "      <td>[67, 66]</td>\n",
       "      <td>[66]</td>\n",
       "      <td>[]</td>\n",
       "      <td>[68, 66, 67, 64, 65]</td>\n",
       "      <td>1</td>\n",
       "    </tr>\n",
       "  </tbody>\n",
       "</table>\n",
       "</div>"
      ],
      "text/plain": [
       "    id            email     role  faculty_id  \\\n",
       "4    4    eit@gmail.com  student           3   \n",
       "14  14  user1@gmail.com  student           3   \n",
       "13  13    ben@gmail.com  student           1   \n",
       "5    5   earn@gmail.com  student           2   \n",
       "\n",
       "                                  fields                          skills  \\\n",
       "4   [[2838, 2859, 2863], [2673, -1, -1]]                         [React]   \n",
       "14      [[2585, -1, -1], [2469, -1, -1]]               [dsd, sdf, dsers]   \n",
       "13                      [[2763, -1, -1]]                [Chinese, Excel]   \n",
       "5                     [[2763, 2813, -1]]  [AstronomicalScience, English]   \n",
       "\n",
       "     joined_projects  starred_projects viewed_projects     followed_projects  \\\n",
       "4           [65, 64]              [64]              []      [64, 68, 66, 67]   \n",
       "14  [73, 72, 70, 69]              [69]    [69, 65, 66]                  [69]   \n",
       "13                []  [67, 66, 65, 64]              []  [65, 64, 68, 67, 66]   \n",
       "5           [67, 66]              [66]              []  [68, 66, 67, 64, 65]   \n",
       "\n",
       "   year  \n",
       "4     1  \n",
       "14    3  \n",
       "13    1  \n",
       "5     1  "
      ]
     },
     "execution_count": 4,
     "metadata": {},
     "output_type": "execute_result"
    }
   ],
   "source": [
    "# Create user dataframe\n",
    "u_df = pd.DataFrame(list(User.objects.all().values()), index=User.objects.values_list('id', flat=True))\n",
    "u_df.head()"
   ]
  },
  {
   "cell_type": "code",
   "execution_count": 5,
   "metadata": {},
   "outputs": [
    {
     "data": {
      "text/html": [
       "<div>\n",
       "<style scoped>\n",
       "    .dataframe tbody tr th:only-of-type {\n",
       "        vertical-align: middle;\n",
       "    }\n",
       "\n",
       "    .dataframe tbody tr th {\n",
       "        vertical-align: top;\n",
       "    }\n",
       "\n",
       "    .dataframe thead th {\n",
       "        text-align: right;\n",
       "    }\n",
       "</style>\n",
       "<table border=\"1\" class=\"dataframe\">\n",
       "  <thead>\n",
       "    <tr style=\"text-align: right;\">\n",
       "      <th></th>\n",
       "      <th>id</th>\n",
       "      <th>title</th>\n",
       "      <th>project_status</th>\n",
       "      <th>fields</th>\n",
       "      <th>tags</th>\n",
       "      <th>created_at</th>\n",
       "      <th>updated_at</th>\n",
       "    </tr>\n",
       "  </thead>\n",
       "  <tbody>\n",
       "    <tr>\n",
       "      <th>64</th>\n",
       "      <td>64</td>\n",
       "      <td>Web project KMITL</td>\n",
       "      <td>None</td>\n",
       "      <td>[[2422, -1, -1], [2422, 2423, 2425]]</td>\n",
       "      <td>[kmitl, web, project]</td>\n",
       "      <td>2020-03-22 10:19:12.782000+00:00</td>\n",
       "      <td>2020-03-22 10:19:12.782000+00:00</td>\n",
       "    </tr>\n",
       "    <tr>\n",
       "      <th>65</th>\n",
       "      <td>65</td>\n",
       "      <td>This is the second project</td>\n",
       "      <td>None</td>\n",
       "      <td>[[2520, 2521, 2522], [2520, 2521, 2525]]</td>\n",
       "      <td>[second, hello]</td>\n",
       "      <td>2020-03-22 12:53:32.268000+00:00</td>\n",
       "      <td>2020-03-22 12:53:32.268000+00:00</td>\n",
       "    </tr>\n",
       "    <tr>\n",
       "      <th>66</th>\n",
       "      <td>66</td>\n",
       "      <td>Drone for delivery in KMITL</td>\n",
       "      <td>None</td>\n",
       "      <td>[[2585, 2618, 2622], [2585, 2618, 2625]]</td>\n",
       "      <td>[drone, delivery]</td>\n",
       "      <td>2020-03-22 13:43:23.884000+00:00</td>\n",
       "      <td>2020-03-22 13:43:23.884000+00:00</td>\n",
       "    </tr>\n",
       "    <tr>\n",
       "      <th>67</th>\n",
       "      <td>67</td>\n",
       "      <td>This is a new project</td>\n",
       "      <td>None</td>\n",
       "      <td>[[2673, 2713, 2722], [2673, 2713, 2725]]</td>\n",
       "      <td>[new]</td>\n",
       "      <td>2020-03-28 13:12:35.584000+00:00</td>\n",
       "      <td>2020-03-28 13:12:35.584000+00:00</td>\n",
       "    </tr>\n",
       "    <tr>\n",
       "      <th>69</th>\n",
       "      <td>69</td>\n",
       "      <td>Ipad pro XL</td>\n",
       "      <td>None</td>\n",
       "      <td>[[2422, -1, -1]]</td>\n",
       "      <td>[a, d, e]</td>\n",
       "      <td>2020-05-22 10:36:57.361000+00:00</td>\n",
       "      <td>2020-05-22 10:36:57.361000+00:00</td>\n",
       "    </tr>\n",
       "  </tbody>\n",
       "</table>\n",
       "</div>"
      ],
      "text/plain": [
       "    id                        title project_status  \\\n",
       "64  64            Web project KMITL           None   \n",
       "65  65   This is the second project           None   \n",
       "66  66  Drone for delivery in KMITL           None   \n",
       "67  67        This is a new project           None   \n",
       "69  69                  Ipad pro XL           None   \n",
       "\n",
       "                                      fields                   tags  \\\n",
       "64      [[2422, -1, -1], [2422, 2423, 2425]]  [kmitl, web, project]   \n",
       "65  [[2520, 2521, 2522], [2520, 2521, 2525]]        [second, hello]   \n",
       "66  [[2585, 2618, 2622], [2585, 2618, 2625]]      [drone, delivery]   \n",
       "67  [[2673, 2713, 2722], [2673, 2713, 2725]]                  [new]   \n",
       "69                          [[2422, -1, -1]]              [a, d, e]   \n",
       "\n",
       "                         created_at                       updated_at  \n",
       "64 2020-03-22 10:19:12.782000+00:00 2020-03-22 10:19:12.782000+00:00  \n",
       "65 2020-03-22 12:53:32.268000+00:00 2020-03-22 12:53:32.268000+00:00  \n",
       "66 2020-03-22 13:43:23.884000+00:00 2020-03-22 13:43:23.884000+00:00  \n",
       "67 2020-03-28 13:12:35.584000+00:00 2020-03-28 13:12:35.584000+00:00  \n",
       "69 2020-05-22 10:36:57.361000+00:00 2020-05-22 10:36:57.361000+00:00  "
      ]
     },
     "execution_count": 5,
     "metadata": {},
     "output_type": "execute_result"
    }
   ],
   "source": [
    "# Create project dataframe\n",
    "p_df = pd.DataFrame(list(Project.objects.all().values()), index=Project.objects.values_list('id', flat=True))\n",
    "p_df.head()"
   ]
  },
  {
   "cell_type": "markdown",
   "metadata": {},
   "source": [
    "# Recommend Project to User based on its contents\n",
    "Recommend a project P to user U based on U's `fields`, `department`, and `skills` and P's `fields` and `tags`."
   ]
  },
  {
   "cell_type": "markdown",
   "metadata": {},
   "source": [
    "## Based on Project's and User's fields\n",
    "Create an empty matrix of relation between users and projects. `index` is user id. `column` is project id."
   ]
  },
  {
   "cell_type": "markdown",
   "metadata": {},
   "source": [
    "### RelationCalculator Class\n",
    "`RelationCalculator` is a base abstract class where only abstract class method `calc_relation` available.\n",
    "\n",
    "`RelationCalcByFields` is a subclass of `RelationCalculator`.\n",
    "\n",
    "`field_similarity(f1, f2)` is a method that calculate similarity of 2 fields.\n",
    "\n",
    "Similarity range from [0, 1]. **0** means not similar at all. **1** means exactly the same.\n",
    "\n",
    "Example input: `field_a = [1,2,3]`, `field_b = [1,2-1]`\n",
    "\n",
    "`field_a` is `3`. \n",
    "- Field `3` is in **group** `2` and **division** `1`.\n",
    "\n",
    "`field_b` is `2`.\n",
    "- Field `2` is **group** in **division** `1`."
   ]
  },
  {
   "cell_type": "markdown",
   "metadata": {},
   "source": [
    "`calc_sim_by_fields(fields_1, fields_2)` is a method that calculate similarity of 2 **list** of fields.\n",
    "\n",
    "Similarity range from [0, 1]. **0** means not similar at all. **1** means exactly the same. It is calculated using **cosine similarity** of 2 vectors.\n",
    "\n",
    "Example input: `fields_a = [[1,2,3], [4,5,-1]]` and `fields_b = [[1,-1,-1], [7,-1,-1]]`\n",
    "\n",
    "`fields_a` contains 2 fields, `3` and `5`. \n",
    "- Field `3` is in **group** `2` and **division** `1`. \n",
    "- Field `5` is a **group** in **division** `4`.\n",
    "\n",
    "\n",
    "** Inspired by [this answer on stackoverflow](https://stackoverflow.com/questions/1746501/can-someone-give-an-example-of-cosine-similarity-in-a-very-simple-graphical-wa)"
   ]
  },
  {
   "cell_type": "code",
   "execution_count": 6,
   "metadata": {},
   "outputs": [
    {
     "name": "stdout",
     "output_type": "stream",
     "text": [
      "1\n",
      "0.7\n",
      "0.3\n",
      "0\n"
     ]
    }
   ],
   "source": [
    "from research.project_recommender.relation_calculator import RelationCalcByFields\n",
    "\n",
    "relation_fields = RelationCalcByFields()\n",
    "# Example of field_similarity usage\n",
    "print(relation_fields.field_similarity([1,2,3], [1,2,3]))\n",
    "print(relation_fields.field_similarity([1,2,3], [1,2,-1]))\n",
    "print(relation_fields.field_similarity([1,2,3], [1,-1,-1]))\n",
    "print(relation_fields.field_similarity([1,2,3], [7,9,10]))"
   ]
  },
  {
   "cell_type": "code",
   "execution_count": 7,
   "metadata": {},
   "outputs": [
    {
     "name": "stdout",
     "output_type": "stream",
     "text": [
      "1.0\n",
      "0.9742120343839542\n",
      "0.816496580927726\n",
      "0.0\n"
     ]
    }
   ],
   "source": [
    "print(relation_fields.calc_sim_by_fields([[4,5,6], [7,8,9], [1,2,3]], [[1,2,3], [4,5,6], [7,8,9]]))\n",
    "\n",
    "print(relation_fields.calc_sim_by_fields([[4,5,-1], [7,8,9], [1,2,3]], [[1,2,3], [4,5,6], [7,8,9]]))\n",
    "\n",
    "print(relation_fields.calc_sim_by_fields([[7,8,9], [1,2,3]], [[1,2,3], [4,5,6], [7,8,9]]))\n",
    "\n",
    "print(relation_fields.calc_sim_by_fields([[1,2,3]], [[4,5,6], [7,8,9]]))"
   ]
  },
  {
   "cell_type": "code",
   "execution_count": 8,
   "metadata": {},
   "outputs": [
    {
     "data": {
      "text/plain": [
       "0.0"
      ]
     },
     "execution_count": 8,
     "metadata": {},
     "output_type": "execute_result"
    }
   ],
   "source": [
    "relation_fields.calc_relation(User.objects.first(), Project.objects.first())"
   ]
  },
  {
   "cell_type": "markdown",
   "metadata": {},
   "source": [
    "### Calculate similarity of user and project"
   ]
  },
  {
   "cell_type": "code",
   "execution_count": 9,
   "metadata": {},
   "outputs": [],
   "source": [
    "from research.project_recommender.relationship import UserProjectRelationship"
   ]
  },
  {
   "cell_type": "code",
   "execution_count": 10,
   "metadata": {},
   "outputs": [
    {
     "data": {
      "text/html": [
       "<div>\n",
       "<style scoped>\n",
       "    .dataframe tbody tr th:only-of-type {\n",
       "        vertical-align: middle;\n",
       "    }\n",
       "\n",
       "    .dataframe tbody tr th {\n",
       "        vertical-align: top;\n",
       "    }\n",
       "\n",
       "    .dataframe thead th {\n",
       "        text-align: right;\n",
       "    }\n",
       "</style>\n",
       "<table border=\"1\" class=\"dataframe\">\n",
       "  <thead>\n",
       "    <tr style=\"text-align: right;\">\n",
       "      <th></th>\n",
       "      <th>64</th>\n",
       "      <th>65</th>\n",
       "      <th>66</th>\n",
       "      <th>67</th>\n",
       "      <th>69</th>\n",
       "      <th>70</th>\n",
       "      <th>72</th>\n",
       "      <th>73</th>\n",
       "    </tr>\n",
       "  </thead>\n",
       "  <tbody>\n",
       "    <tr>\n",
       "      <th>4</th>\n",
       "      <td>0</td>\n",
       "      <td>0</td>\n",
       "      <td>0</td>\n",
       "      <td>0.421639</td>\n",
       "      <td>0</td>\n",
       "      <td>0.236102</td>\n",
       "      <td>0.397525</td>\n",
       "      <td>0</td>\n",
       "    </tr>\n",
       "    <tr>\n",
       "      <th>14</th>\n",
       "      <td>0</td>\n",
       "      <td>0</td>\n",
       "      <td>0.421639</td>\n",
       "      <td>0</td>\n",
       "      <td>0</td>\n",
       "      <td>0.236102</td>\n",
       "      <td>0</td>\n",
       "      <td>0</td>\n",
       "    </tr>\n",
       "    <tr>\n",
       "      <th>13</th>\n",
       "      <td>0</td>\n",
       "      <td>0</td>\n",
       "      <td>0</td>\n",
       "      <td>0</td>\n",
       "      <td>0</td>\n",
       "      <td>0.326933</td>\n",
       "      <td>0</td>\n",
       "      <td>0</td>\n",
       "    </tr>\n",
       "    <tr>\n",
       "      <th>5</th>\n",
       "      <td>0</td>\n",
       "      <td>0</td>\n",
       "      <td>0</td>\n",
       "      <td>0</td>\n",
       "      <td>0</td>\n",
       "      <td>0.613935</td>\n",
       "      <td>0</td>\n",
       "      <td>0</td>\n",
       "    </tr>\n",
       "  </tbody>\n",
       "</table>\n",
       "</div>"
      ],
      "text/plain": [
       "   64 65        66        67 69        70        72 73\n",
       "4   0  0         0  0.421639  0  0.236102  0.397525  0\n",
       "14  0  0  0.421639         0  0  0.236102         0  0\n",
       "13  0  0         0         0  0  0.326933         0  0\n",
       "5   0  0         0         0  0  0.613935         0  0"
      ]
     },
     "execution_count": 10,
     "metadata": {},
     "output_type": "execute_result"
    }
   ],
   "source": [
    "u_p_sim = UserProjectRelationship()\n",
    "u_p_sim.fill_relations()"
   ]
  },
  {
   "cell_type": "code",
   "execution_count": 11,
   "metadata": {},
   "outputs": [
    {
     "data": {
      "text/html": [
       "<div>\n",
       "<style scoped>\n",
       "    .dataframe tbody tr th:only-of-type {\n",
       "        vertical-align: middle;\n",
       "    }\n",
       "\n",
       "    .dataframe tbody tr th {\n",
       "        vertical-align: top;\n",
       "    }\n",
       "\n",
       "    .dataframe thead th {\n",
       "        text-align: right;\n",
       "    }\n",
       "</style>\n",
       "<table border=\"1\" class=\"dataframe\">\n",
       "  <thead>\n",
       "    <tr style=\"text-align: right;\">\n",
       "      <th></th>\n",
       "      <th>variable</th>\n",
       "      <th>value</th>\n",
       "    </tr>\n",
       "  </thead>\n",
       "  <tbody>\n",
       "    <tr>\n",
       "      <th>5</th>\n",
       "      <td>70</td>\n",
       "      <td>0.326933</td>\n",
       "    </tr>\n",
       "    <tr>\n",
       "      <th>0</th>\n",
       "      <td>64</td>\n",
       "      <td>0</td>\n",
       "    </tr>\n",
       "    <tr>\n",
       "      <th>1</th>\n",
       "      <td>65</td>\n",
       "      <td>0</td>\n",
       "    </tr>\n",
       "    <tr>\n",
       "      <th>2</th>\n",
       "      <td>66</td>\n",
       "      <td>0</td>\n",
       "    </tr>\n",
       "    <tr>\n",
       "      <th>3</th>\n",
       "      <td>67</td>\n",
       "      <td>0</td>\n",
       "    </tr>\n",
       "    <tr>\n",
       "      <th>4</th>\n",
       "      <td>69</td>\n",
       "      <td>0</td>\n",
       "    </tr>\n",
       "    <tr>\n",
       "      <th>6</th>\n",
       "      <td>72</td>\n",
       "      <td>0</td>\n",
       "    </tr>\n",
       "    <tr>\n",
       "      <th>7</th>\n",
       "      <td>73</td>\n",
       "      <td>0</td>\n",
       "    </tr>\n",
       "  </tbody>\n",
       "</table>\n",
       "</div>"
      ],
      "text/plain": [
       "   variable     value\n",
       "5        70  0.326933\n",
       "0        64         0\n",
       "1        65         0\n",
       "2        66         0\n",
       "3        67         0\n",
       "4        69         0\n",
       "6        72         0\n",
       "7        73         0"
      ]
     },
     "execution_count": 11,
     "metadata": {},
     "output_type": "execute_result"
    }
   ],
   "source": [
    "# Retrieve a user, say 13.\n",
    "sorted_projects = u_p_sim.get_relations().loc[[13]].melt().sort_values('value',ascending=False)\n",
    "sorted_projects"
   ]
  },
  {
   "cell_type": "code",
   "execution_count": 12,
   "metadata": {},
   "outputs": [
    {
     "data": {
      "text/plain": [
       "[70, 64, 65, 66, 67, 69, 72, 73]"
      ]
     },
     "execution_count": 12,
     "metadata": {},
     "output_type": "execute_result"
    }
   ],
   "source": [
    "sorted_projects.head(100)['variable'].to_list()"
   ]
  },
  {
   "cell_type": "markdown",
   "metadata": {},
   "source": [
    "## Based on Projects that a User interacts with in the past"
   ]
  },
  {
   "cell_type": "markdown",
   "metadata": {},
   "source": [
    "### How to compare similarity of two projects P and Q\n",
    "- Fields\n",
    "- Tags\n",
    "- Members"
   ]
  },
  {
   "cell_type": "markdown",
   "metadata": {},
   "source": [
    "### Comparing Project fields"
   ]
  },
  {
   "cell_type": "code",
   "execution_count": 13,
   "metadata": {},
   "outputs": [],
   "source": [
    "from research.project_recommender.relationship import ProjectRelationship"
   ]
  },
  {
   "cell_type": "code",
   "execution_count": 14,
   "metadata": {},
   "outputs": [
    {
     "data": {
      "text/html": [
       "<div>\n",
       "<style scoped>\n",
       "    .dataframe tbody tr th:only-of-type {\n",
       "        vertical-align: middle;\n",
       "    }\n",
       "\n",
       "    .dataframe tbody tr th {\n",
       "        vertical-align: top;\n",
       "    }\n",
       "\n",
       "    .dataframe thead th {\n",
       "        text-align: right;\n",
       "    }\n",
       "</style>\n",
       "<table border=\"1\" class=\"dataframe\">\n",
       "  <thead>\n",
       "    <tr style=\"text-align: right;\">\n",
       "      <th></th>\n",
       "      <th>64</th>\n",
       "      <th>65</th>\n",
       "      <th>66</th>\n",
       "      <th>67</th>\n",
       "      <th>69</th>\n",
       "      <th>70</th>\n",
       "      <th>72</th>\n",
       "      <th>73</th>\n",
       "    </tr>\n",
       "  </thead>\n",
       "  <tbody>\n",
       "    <tr>\n",
       "      <th>64</th>\n",
       "      <td>1</td>\n",
       "      <td>0</td>\n",
       "      <td>0</td>\n",
       "      <td>0</td>\n",
       "      <td>0.880471</td>\n",
       "      <td>0</td>\n",
       "      <td>0</td>\n",
       "      <td>0</td>\n",
       "    </tr>\n",
       "    <tr>\n",
       "      <th>65</th>\n",
       "      <td>0</td>\n",
       "      <td>1</td>\n",
       "      <td>0</td>\n",
       "      <td>0</td>\n",
       "      <td>0</td>\n",
       "      <td>0</td>\n",
       "      <td>0</td>\n",
       "      <td>0</td>\n",
       "    </tr>\n",
       "    <tr>\n",
       "      <th>66</th>\n",
       "      <td>0</td>\n",
       "      <td>0</td>\n",
       "      <td>1</td>\n",
       "      <td>0</td>\n",
       "      <td>0</td>\n",
       "      <td>0.349105</td>\n",
       "      <td>0</td>\n",
       "      <td>0</td>\n",
       "    </tr>\n",
       "    <tr>\n",
       "      <th>67</th>\n",
       "      <td>0</td>\n",
       "      <td>0</td>\n",
       "      <td>0</td>\n",
       "      <td>1</td>\n",
       "      <td>0</td>\n",
       "      <td>0</td>\n",
       "      <td>0</td>\n",
       "      <td>0</td>\n",
       "    </tr>\n",
       "    <tr>\n",
       "      <th>69</th>\n",
       "      <td>0.880471</td>\n",
       "      <td>0</td>\n",
       "      <td>0</td>\n",
       "      <td>0</td>\n",
       "      <td>1</td>\n",
       "      <td>0</td>\n",
       "      <td>0</td>\n",
       "      <td>0</td>\n",
       "    </tr>\n",
       "    <tr>\n",
       "      <th>70</th>\n",
       "      <td>0</td>\n",
       "      <td>0</td>\n",
       "      <td>0.349105</td>\n",
       "      <td>0</td>\n",
       "      <td>0</td>\n",
       "      <td>1</td>\n",
       "      <td>0.57735</td>\n",
       "      <td>0</td>\n",
       "    </tr>\n",
       "    <tr>\n",
       "      <th>72</th>\n",
       "      <td>0</td>\n",
       "      <td>0</td>\n",
       "      <td>0</td>\n",
       "      <td>0</td>\n",
       "      <td>0</td>\n",
       "      <td>0.57735</td>\n",
       "      <td>1</td>\n",
       "      <td>0</td>\n",
       "    </tr>\n",
       "    <tr>\n",
       "      <th>73</th>\n",
       "      <td>0</td>\n",
       "      <td>0</td>\n",
       "      <td>0</td>\n",
       "      <td>0</td>\n",
       "      <td>0</td>\n",
       "      <td>0</td>\n",
       "      <td>0</td>\n",
       "      <td>1</td>\n",
       "    </tr>\n",
       "  </tbody>\n",
       "</table>\n",
       "</div>"
      ],
      "text/plain": [
       "          64 65        66 67        69        70       72 73\n",
       "64         1  0         0  0  0.880471         0        0  0\n",
       "65         0  1         0  0         0         0        0  0\n",
       "66         0  0         1  0         0  0.349105        0  0\n",
       "67         0  0         0  1         0         0        0  0\n",
       "69  0.880471  0         0  0         1         0        0  0\n",
       "70         0  0  0.349105  0         0         1  0.57735  0\n",
       "72         0  0         0  0         0   0.57735        1  0\n",
       "73         0  0         0  0         0         0        0  1"
      ]
     },
     "execution_count": 14,
     "metadata": {},
     "output_type": "execute_result"
    }
   ],
   "source": [
    "p_p_sim = ProjectRelationship()\n",
    "p_p_relation = p_p_sim.fill_relations()\n",
    "p_p_relation"
   ]
  },
  {
   "cell_type": "markdown",
   "metadata": {},
   "source": [
    "### Compare project with past user interactions"
   ]
  },
  {
   "cell_type": "code",
   "execution_count": 15,
   "metadata": {},
   "outputs": [
    {
     "name": "stdout",
     "output_type": "stream",
     "text": [
      "10.0\n",
      "9.0\n",
      "8.0\n",
      "7.0\n",
      "6.0\n",
      "5.0\n",
      "4.0\n",
      "3.0\n",
      "2.0\n",
      "1.0\n"
     ]
    }
   ],
   "source": [
    "weight = 10\n",
    "n = 10\n",
    "for i in range(n):\n",
    "    print(weight - i * (weight / n))"
   ]
  },
  {
   "cell_type": "code",
   "execution_count": 16,
   "metadata": {},
   "outputs": [],
   "source": [
    "from apps.ml.models import Relation\n",
    "from research.project_recommender.relation_calculator import RelationCalculator, RelationCalcByInteractions\n",
    "from apps.kstorage.models import User, Project"
   ]
  },
  {
   "cell_type": "code",
   "execution_count": 17,
   "metadata": {},
   "outputs": [
    {
     "data": {
      "text/plain": [
       "0.5184996477319477"
      ]
     },
     "execution_count": 17,
     "metadata": {},
     "output_type": "execute_result"
    }
   ],
   "source": [
    "interaction_calc = RelationCalcByInteractions()\n",
    "interaction_calc.calc_relation(User.objects.get(pk=14), Project.objects.first())"
   ]
  },
  {
   "cell_type": "code",
   "execution_count": 19,
   "metadata": {},
   "outputs": [
    {
     "data": {
      "text/html": [
       "<div>\n",
       "<style scoped>\n",
       "    .dataframe tbody tr th:only-of-type {\n",
       "        vertical-align: middle;\n",
       "    }\n",
       "\n",
       "    .dataframe tbody tr th {\n",
       "        vertical-align: top;\n",
       "    }\n",
       "\n",
       "    .dataframe thead th {\n",
       "        text-align: right;\n",
       "    }\n",
       "</style>\n",
       "<table border=\"1\" class=\"dataframe\">\n",
       "  <thead>\n",
       "    <tr style=\"text-align: right;\">\n",
       "      <th></th>\n",
       "      <th>64</th>\n",
       "      <th>65</th>\n",
       "      <th>66</th>\n",
       "      <th>67</th>\n",
       "      <th>69</th>\n",
       "      <th>70</th>\n",
       "      <th>72</th>\n",
       "      <th>73</th>\n",
       "    </tr>\n",
       "  </thead>\n",
       "  <tbody>\n",
       "    <tr>\n",
       "      <th>4</th>\n",
       "      <td>0</td>\n",
       "      <td>0</td>\n",
       "      <td>0.0833333</td>\n",
       "      <td>0.0714286</td>\n",
       "      <td>0.392019</td>\n",
       "      <td>0.0290921</td>\n",
       "      <td>0</td>\n",
       "      <td>0</td>\n",
       "    </tr>\n",
       "    <tr>\n",
       "      <th>14</th>\n",
       "      <td>0.5185</td>\n",
       "      <td>0.0833333</td>\n",
       "      <td>0.0923238</td>\n",
       "      <td>0</td>\n",
       "      <td>0</td>\n",
       "      <td>0</td>\n",
       "      <td>0</td>\n",
       "      <td>0</td>\n",
       "    </tr>\n",
       "    <tr>\n",
       "      <th>13</th>\n",
       "      <td>0.115385</td>\n",
       "      <td>0.134615</td>\n",
       "      <td>0.115385</td>\n",
       "      <td>0.134615</td>\n",
       "      <td>0.101593</td>\n",
       "      <td>0.0402813</td>\n",
       "      <td>0</td>\n",
       "      <td>0</td>\n",
       "    </tr>\n",
       "    <tr>\n",
       "      <th>5</th>\n",
       "      <td>0.0576923</td>\n",
       "      <td>0.0480769</td>\n",
       "      <td>0</td>\n",
       "      <td>0</td>\n",
       "      <td>0.0507964</td>\n",
       "      <td>0.149041</td>\n",
       "      <td>0</td>\n",
       "      <td>0</td>\n",
       "    </tr>\n",
       "  </tbody>\n",
       "</table>\n",
       "</div>"
      ],
      "text/plain": [
       "           64         65         66         67         69         70 72 73\n",
       "4           0          0  0.0833333  0.0714286   0.392019  0.0290921  0  0\n",
       "14     0.5185  0.0833333  0.0923238          0          0          0  0  0\n",
       "13   0.115385   0.134615   0.115385   0.134615   0.101593  0.0402813  0  0\n",
       "5   0.0576923  0.0480769          0          0  0.0507964   0.149041  0  0"
      ]
     },
     "execution_count": 19,
     "metadata": {},
     "output_type": "execute_result"
    }
   ],
   "source": [
    "interaction_calc = RelationCalcByInteractions()\n",
    "from research.project_recommender.relationship import UserProjectRelationship\n",
    "\n",
    "u_p_sim = UserProjectRelationship(calculator_class = RelationCalcByInteractions)\n",
    "u_p_relation = u_p_sim.fill_relations()\n",
    "u_p_relation"
   ]
  },
  {
   "cell_type": "code",
   "execution_count": null,
   "metadata": {},
   "outputs": [],
   "source": []
  }
 ],
 "metadata": {
  "kernelspec": {
   "display_name": "Django Shell-Plus",
   "language": "python",
   "name": "django_extensions"
  },
  "language_info": {
   "codemirror_mode": {
    "name": "ipython",
    "version": 3
   },
   "file_extension": ".py",
   "mimetype": "text/x-python",
   "name": "python",
   "nbconvert_exporter": "python",
   "pygments_lexer": "ipython3",
   "version": "3.7.7"
  }
 },
 "nbformat": 4,
 "nbformat_minor": 4
}
