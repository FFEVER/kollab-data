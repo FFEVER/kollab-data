{
 "cells": [
  {
   "cell_type": "markdown",
   "metadata": {},
   "source": [
    "# Setup Django"
   ]
  },
  {
   "cell_type": "code",
   "execution_count": 1,
   "metadata": {},
   "outputs": [],
   "source": [
    "import os, sys\n",
    "# PWD = os.getenv('PWD')\n",
    "# os.chdir(PWD)\n",
    "# sys.path.insert(0, os.getenv('PWD'))\n",
    "# os.environ.setdefault(\"DJANGO_SETTINGS_MODULE\", \"local_settings.py\")\n",
    "# import django\n",
    "# django.setup()"
   ]
  },
  {
   "cell_type": "code",
   "execution_count": 2,
   "metadata": {},
   "outputs": [],
   "source": [
    "os.environ[\"DJANGO_ALLOW_ASYNC_UNSAFE\"] = \"true\""
   ]
  },
  {
   "cell_type": "markdown",
   "metadata": {},
   "source": [
    "# Preprocessing"
   ]
  },
  {
   "cell_type": "code",
   "execution_count": 3,
   "metadata": {},
   "outputs": [],
   "source": [
    "from apps.kstorage.models import User, Project\n",
    "import pandas as pd\n",
    "import numpy as np\n",
    "import joblib"
   ]
  },
  {
   "cell_type": "code",
   "execution_count": 4,
   "metadata": {},
   "outputs": [
    {
     "data": {
      "text/html": [
       "<div>\n",
       "<style scoped>\n",
       "    .dataframe tbody tr th:only-of-type {\n",
       "        vertical-align: middle;\n",
       "    }\n",
       "\n",
       "    .dataframe tbody tr th {\n",
       "        vertical-align: top;\n",
       "    }\n",
       "\n",
       "    .dataframe thead th {\n",
       "        text-align: right;\n",
       "    }\n",
       "</style>\n",
       "<table border=\"1\" class=\"dataframe\">\n",
       "  <thead>\n",
       "    <tr style=\"text-align: right;\">\n",
       "      <th></th>\n",
       "      <th>id</th>\n",
       "      <th>email</th>\n",
       "      <th>role</th>\n",
       "      <th>faculty_id</th>\n",
       "      <th>expertises</th>\n",
       "      <th>skills</th>\n",
       "      <th>year</th>\n",
       "    </tr>\n",
       "  </thead>\n",
       "  <tbody>\n",
       "    <tr>\n",
       "      <th>4</th>\n",
       "      <td>4</td>\n",
       "      <td>eit@gmail.com</td>\n",
       "      <td>student</td>\n",
       "      <td>3</td>\n",
       "      <td>[[2838, 2859, 2863], [2673, -1, -1]]</td>\n",
       "      <td>[React]</td>\n",
       "      <td>1</td>\n",
       "    </tr>\n",
       "    <tr>\n",
       "      <th>14</th>\n",
       "      <td>14</td>\n",
       "      <td>user1@gmail.com</td>\n",
       "      <td>student</td>\n",
       "      <td>3</td>\n",
       "      <td>[[2585, -1, -1], [2469, -1, -1]]</td>\n",
       "      <td>[dsd, sdf, dsers]</td>\n",
       "      <td>3</td>\n",
       "    </tr>\n",
       "    <tr>\n",
       "      <th>13</th>\n",
       "      <td>13</td>\n",
       "      <td>ben@gmail.com</td>\n",
       "      <td>student</td>\n",
       "      <td>1</td>\n",
       "      <td>[[2763, -1, -1]]</td>\n",
       "      <td>[Chinese, Excel]</td>\n",
       "      <td>1</td>\n",
       "    </tr>\n",
       "    <tr>\n",
       "      <th>5</th>\n",
       "      <td>5</td>\n",
       "      <td>earn@gmail.com</td>\n",
       "      <td>student</td>\n",
       "      <td>2</td>\n",
       "      <td>[[2763, 2813, -1]]</td>\n",
       "      <td>[AstronomicalScience, English]</td>\n",
       "      <td>1</td>\n",
       "    </tr>\n",
       "  </tbody>\n",
       "</table>\n",
       "</div>"
      ],
      "text/plain": [
       "    id            email     role  faculty_id  \\\n",
       "4    4    eit@gmail.com  student           3   \n",
       "14  14  user1@gmail.com  student           3   \n",
       "13  13    ben@gmail.com  student           1   \n",
       "5    5   earn@gmail.com  student           2   \n",
       "\n",
       "                              expertises                          skills year  \n",
       "4   [[2838, 2859, 2863], [2673, -1, -1]]                         [React]    1  \n",
       "14      [[2585, -1, -1], [2469, -1, -1]]               [dsd, sdf, dsers]    3  \n",
       "13                      [[2763, -1, -1]]                [Chinese, Excel]    1  \n",
       "5                     [[2763, 2813, -1]]  [AstronomicalScience, English]    1  "
      ]
     },
     "execution_count": 4,
     "metadata": {},
     "output_type": "execute_result"
    }
   ],
   "source": [
    "# Create user dataframe\n",
    "u_df = pd.DataFrame(list(User.objects.all().values()), index=User.objects.values_list('id', flat=True))\n",
    "u_df.head()"
   ]
  },
  {
   "cell_type": "code",
   "execution_count": 5,
   "metadata": {},
   "outputs": [
    {
     "data": {
      "text/html": [
       "<div>\n",
       "<style scoped>\n",
       "    .dataframe tbody tr th:only-of-type {\n",
       "        vertical-align: middle;\n",
       "    }\n",
       "\n",
       "    .dataframe tbody tr th {\n",
       "        vertical-align: top;\n",
       "    }\n",
       "\n",
       "    .dataframe thead th {\n",
       "        text-align: right;\n",
       "    }\n",
       "</style>\n",
       "<table border=\"1\" class=\"dataframe\">\n",
       "  <thead>\n",
       "    <tr style=\"text-align: right;\">\n",
       "      <th></th>\n",
       "      <th>id</th>\n",
       "      <th>title</th>\n",
       "      <th>project_status</th>\n",
       "      <th>categories</th>\n",
       "      <th>tags</th>\n",
       "      <th>created_at</th>\n",
       "      <th>updated_at</th>\n",
       "    </tr>\n",
       "  </thead>\n",
       "  <tbody>\n",
       "    <tr>\n",
       "      <th>64</th>\n",
       "      <td>64</td>\n",
       "      <td>Web project KMITL</td>\n",
       "      <td>None</td>\n",
       "      <td>[[2422, -1, -1], [2422, 2423, 2425]]</td>\n",
       "      <td>[kmitl, web, project]</td>\n",
       "      <td>2020-03-22 10:19:12.782000+00:00</td>\n",
       "      <td>2020-03-22 10:19:12.782000+00:00</td>\n",
       "    </tr>\n",
       "    <tr>\n",
       "      <th>65</th>\n",
       "      <td>65</td>\n",
       "      <td>This is the second project</td>\n",
       "      <td>None</td>\n",
       "      <td>[[2520, 2521, 2522], [2520, 2521, 2525]]</td>\n",
       "      <td>[second, hello]</td>\n",
       "      <td>2020-03-22 12:53:32.268000+00:00</td>\n",
       "      <td>2020-03-22 12:53:32.268000+00:00</td>\n",
       "    </tr>\n",
       "    <tr>\n",
       "      <th>66</th>\n",
       "      <td>66</td>\n",
       "      <td>Drone for delivery in KMITL</td>\n",
       "      <td>None</td>\n",
       "      <td>[[2585, 2618, 2622], [2585, 2618, 2625]]</td>\n",
       "      <td>[drone, delivery]</td>\n",
       "      <td>2020-03-22 13:43:23.884000+00:00</td>\n",
       "      <td>2020-03-22 13:43:23.884000+00:00</td>\n",
       "    </tr>\n",
       "    <tr>\n",
       "      <th>67</th>\n",
       "      <td>67</td>\n",
       "      <td>This is a new project</td>\n",
       "      <td>None</td>\n",
       "      <td>[[2673, 2713, 2722], [2673, 2713, 2725]]</td>\n",
       "      <td>[new]</td>\n",
       "      <td>2020-03-28 13:12:35.584000+00:00</td>\n",
       "      <td>2020-03-28 13:12:35.584000+00:00</td>\n",
       "    </tr>\n",
       "    <tr>\n",
       "      <th>69</th>\n",
       "      <td>69</td>\n",
       "      <td>Ipad pro XL</td>\n",
       "      <td>None</td>\n",
       "      <td>[[2422, -1, -1]]</td>\n",
       "      <td>[a, d, e]</td>\n",
       "      <td>2020-05-22 10:36:57.361000+00:00</td>\n",
       "      <td>2020-05-22 10:36:57.361000+00:00</td>\n",
       "    </tr>\n",
       "  </tbody>\n",
       "</table>\n",
       "</div>"
      ],
      "text/plain": [
       "    id                        title project_status  \\\n",
       "64  64            Web project KMITL           None   \n",
       "65  65   This is the second project           None   \n",
       "66  66  Drone for delivery in KMITL           None   \n",
       "67  67        This is a new project           None   \n",
       "69  69                  Ipad pro XL           None   \n",
       "\n",
       "                                  categories                   tags  \\\n",
       "64      [[2422, -1, -1], [2422, 2423, 2425]]  [kmitl, web, project]   \n",
       "65  [[2520, 2521, 2522], [2520, 2521, 2525]]        [second, hello]   \n",
       "66  [[2585, 2618, 2622], [2585, 2618, 2625]]      [drone, delivery]   \n",
       "67  [[2673, 2713, 2722], [2673, 2713, 2725]]                  [new]   \n",
       "69                          [[2422, -1, -1]]              [a, d, e]   \n",
       "\n",
       "                         created_at                       updated_at  \n",
       "64 2020-03-22 10:19:12.782000+00:00 2020-03-22 10:19:12.782000+00:00  \n",
       "65 2020-03-22 12:53:32.268000+00:00 2020-03-22 12:53:32.268000+00:00  \n",
       "66 2020-03-22 13:43:23.884000+00:00 2020-03-22 13:43:23.884000+00:00  \n",
       "67 2020-03-28 13:12:35.584000+00:00 2020-03-28 13:12:35.584000+00:00  \n",
       "69 2020-05-22 10:36:57.361000+00:00 2020-05-22 10:36:57.361000+00:00  "
      ]
     },
     "execution_count": 5,
     "metadata": {},
     "output_type": "execute_result"
    }
   ],
   "source": [
    "# Create project dataframe\n",
    "p_df = pd.DataFrame(list(Project.objects.all().values()), index=Project.objects.values_list('id', flat=True))\n",
    "p_df.head()"
   ]
  },
  {
   "cell_type": "markdown",
   "metadata": {},
   "source": [
    "# Recommend Project to User based on its contents\n",
    "Recommend a project P to user U based on U's `fields`, `department`, and `skills` and P's `fields` and `tags`."
   ]
  },
  {
   "cell_type": "markdown",
   "metadata": {},
   "source": [
    "## Based on Project's and User's fields\n",
    "Create an empty matrix of relation between users and projects. `index` is user id. `column` is project id."
   ]
  },
  {
   "cell_type": "markdown",
   "metadata": {},
   "source": [
    "### Similarity function\n",
    "`field_similarity(f1, f2)` is a method that calculate similarity of 2 fields.\n",
    "\n",
    "Similarity range from [0, 1]. **0** means not similar at all. **1** means exactly the same.\n",
    "\n",
    "Example input: `field_a = [1,2,3]`, `field_b = [1,2-1]`\n",
    "\n",
    "`field_a` is `3`. \n",
    "- Field `3` is in **group** `2` and **division** `1`.\n",
    "\n",
    "`field_b` is `2`.\n",
    "- Field `2` is **group** in **division** `1`."
   ]
  },
  {
   "cell_type": "code",
   "execution_count": 6,
   "metadata": {},
   "outputs": [],
   "source": [
    "import itertools\n",
    "import math\n",
    "from scipy.spatial.distance import cosine\n",
    "\n",
    "class FieldSimCalculator:\n",
    "    def field_similarity(self, f1, f2):\n",
    "        if f1[0] == f2[0]:\n",
    "            if f1[1] == f2[1]:\n",
    "                if f1[2] == f2[2]:\n",
    "                    return 1\n",
    "                return 0.7\n",
    "            return 0.3\n",
    "        return 0\n",
    "\n",
    "    def unique_fields(self, field_list_1, field_list_2):\n",
    "        '''\n",
    "            Return a list of unique fields\n",
    "            e.g. [[1,2],[8,9]] + [[8,9],[10,11]] = [[1,2],[8,9],[10,11]]\n",
    "        '''\n",
    "        f = field_list_1 + field_list_2\n",
    "        f.sort()\n",
    "        return list(f for f,_ in itertools.groupby(f))\n",
    "    \n",
    "    def calc_sim_by_fields(self, field_list_1, field_list_2):\n",
    "        unique = self.unique_fields(field_list_1, field_list_2)\n",
    "        sim_list_1 = list()\n",
    "        sim_list_2 = list()\n",
    "        for field in unique:\n",
    "            # Similarity vector of list of fields 1\n",
    "            sim_temp = []\n",
    "            for f1 in field_list_1:\n",
    "                sim_temp.append(self.field_similarity(field, f1))\n",
    "            sim_list_1.append(max(sim_temp))\n",
    "\n",
    "            # Similarity vector of list of fields 2\n",
    "            sim_temp = []\n",
    "            for f2 in field_list_2:\n",
    "                sim_temp.append(self.field_similarity(field, f2))\n",
    "            sim_list_2.append(max(sim_temp))\n",
    "\n",
    "        val_out = 1 - cosine(sim_list_1, sim_list_2)\n",
    "        return val_out"
   ]
  },
  {
   "cell_type": "code",
   "execution_count": 7,
   "metadata": {},
   "outputs": [
    {
     "name": "stdout",
     "output_type": "stream",
     "text": [
      "1\n",
      "0.7\n",
      "0.3\n",
      "0\n"
     ]
    }
   ],
   "source": [
    "f_sim_calc = FieldSimCalculator()\n",
    "# Example of field_similarity usage\n",
    "print(f_sim_calc.field_similarity([1,2,3], [1,2,3]))\n",
    "print(f_sim_calc.field_similarity([1,2,3], [1,2,-1]))\n",
    "print(f_sim_calc.field_similarity([1,2,3], [1,-1,-1]))\n",
    "print(f_sim_calc.field_similarity([1,2,3], [7,9,10]))"
   ]
  },
  {
   "cell_type": "markdown",
   "metadata": {},
   "source": [
    "`calc_sim_by_fields(fields_1, fields_2)` is a method that calculate similarity of 2 **list** of fields.\n",
    "\n",
    "Similarity range from [0, 1]. **0** means not similar at all. **1** means exactly the same. It is calculated using **cosine similarity** of 2 vectors.\n",
    "\n",
    "Example input: `fields_a = [[1,2,3], [4,5,-1]]` and `fields_b = [[1,-1,-1], [7,-1,-1]]`\n",
    "\n",
    "`fields_a` contains 2 fields, `3` and `5`. \n",
    "- Field `3` is in **group** `2` and **division** `1`. \n",
    "- Field `5` is a **group** in **division** `4`.\n",
    "\n",
    "\n",
    "** Inspired by [this answer on stackoverflow](https://stackoverflow.com/questions/1746501/can-someone-give-an-example-of-cosine-similarity-in-a-very-simple-graphical-wa)"
   ]
  },
  {
   "cell_type": "code",
   "execution_count": 8,
   "metadata": {},
   "outputs": [
    {
     "data": {
      "text/plain": [
       "0.0"
      ]
     },
     "execution_count": 8,
     "metadata": {},
     "output_type": "execute_result"
    }
   ],
   "source": [
    "f_sim_calc = FieldSimCalculator()\n",
    "\n",
    "f_sim_calc.calc_sim_by_fields([[4,5,6], [7,8,9], [1,2,3]], [[1,2,3], [4,5,6], [7,8,9]])\n",
    "\n",
    "f_sim_calc.calc_sim_by_fields([[4,5,-1], [7,8,9], [1,2,3]], [[1,2,3], [4,5,6], [7,8,9]])\n",
    "\n",
    "f_sim_calc.calc_sim_by_fields([[7,8,9], [1,2,3]], [[1,2,3], [4,5,6], [7,8,9]])\n",
    "\n",
    "f_sim_calc.calc_sim_by_fields([[1,2,3]], [[4,5,6], [7,8,9]])"
   ]
  },
  {
   "cell_type": "markdown",
   "metadata": {},
   "source": [
    "### Calculate similarity of user and project"
   ]
  },
  {
   "cell_type": "code",
   "execution_count": 9,
   "metadata": {},
   "outputs": [],
   "source": [
    "from recommender.settings import BASE_DIR\n",
    "import joblib\n",
    "import pickle\n",
    "\n",
    "class UserProjectSimilarity:\n",
    "    def __init__(self):\n",
    "        self.users = User.objects.all()\n",
    "        self.projects = Project.objects.all()\n",
    "        self.sim_calc = FieldSimCalculator()\n",
    "        self.user_project_df = self.create_sim_table()\n",
    "\n",
    "    def create_sim_table(self):\n",
    "        # Create empty similarity table\n",
    "        user_ids = User.objects.values_list('id', flat=True)\n",
    "        project_ids = Project.objects.values_list('id', flat=True)\n",
    "        user_project_df = pd.DataFrame(index=user_ids, columns=project_ids)\n",
    "        return user_project_df\n",
    "\n",
    "    def fill_sim_table(self):\n",
    "        for user in self.users:\n",
    "            for project in self.projects:\n",
    "                u_fields = user.expertises\n",
    "                p_fields = project.categories\n",
    "                sim = self.sim_calc.calc_sim_by_fields(u_fields, p_fields)\n",
    "                self.user_project_df.loc[user.id, project.id] = sim\n",
    "        return self.user_project_df\n",
    "    \n",
    "    def get_sim_table(self):\n",
    "        return self.user_project_df\n",
    "    \n",
    "    def get_picked_sim_table(self):\n",
    "        return pickle.dumps(self.user_project_df)\n",
    "    \n",
    "    def get_users_count(self):\n",
    "        return len(self.user_project_df)\n",
    "    \n",
    "    def get_projects_count(self):\n",
    "        return len(self.user_project_df.columns)\n",
    "\n"
   ]
  },
  {
   "cell_type": "code",
   "execution_count": 10,
   "metadata": {},
   "outputs": [
    {
     "data": {
      "text/html": [
       "<div>\n",
       "<style scoped>\n",
       "    .dataframe tbody tr th:only-of-type {\n",
       "        vertical-align: middle;\n",
       "    }\n",
       "\n",
       "    .dataframe tbody tr th {\n",
       "        vertical-align: top;\n",
       "    }\n",
       "\n",
       "    .dataframe thead th {\n",
       "        text-align: right;\n",
       "    }\n",
       "</style>\n",
       "<table border=\"1\" class=\"dataframe\">\n",
       "  <thead>\n",
       "    <tr style=\"text-align: right;\">\n",
       "      <th></th>\n",
       "      <th>64</th>\n",
       "      <th>65</th>\n",
       "      <th>66</th>\n",
       "      <th>67</th>\n",
       "      <th>69</th>\n",
       "      <th>70</th>\n",
       "      <th>72</th>\n",
       "      <th>73</th>\n",
       "    </tr>\n",
       "  </thead>\n",
       "  <tbody>\n",
       "    <tr>\n",
       "      <th>4</th>\n",
       "      <td>NaN</td>\n",
       "      <td>NaN</td>\n",
       "      <td>NaN</td>\n",
       "      <td>NaN</td>\n",
       "      <td>NaN</td>\n",
       "      <td>NaN</td>\n",
       "      <td>NaN</td>\n",
       "      <td>NaN</td>\n",
       "    </tr>\n",
       "    <tr>\n",
       "      <th>14</th>\n",
       "      <td>NaN</td>\n",
       "      <td>NaN</td>\n",
       "      <td>NaN</td>\n",
       "      <td>NaN</td>\n",
       "      <td>NaN</td>\n",
       "      <td>NaN</td>\n",
       "      <td>NaN</td>\n",
       "      <td>NaN</td>\n",
       "    </tr>\n",
       "    <tr>\n",
       "      <th>13</th>\n",
       "      <td>NaN</td>\n",
       "      <td>NaN</td>\n",
       "      <td>NaN</td>\n",
       "      <td>NaN</td>\n",
       "      <td>NaN</td>\n",
       "      <td>NaN</td>\n",
       "      <td>NaN</td>\n",
       "      <td>NaN</td>\n",
       "    </tr>\n",
       "    <tr>\n",
       "      <th>5</th>\n",
       "      <td>NaN</td>\n",
       "      <td>NaN</td>\n",
       "      <td>NaN</td>\n",
       "      <td>NaN</td>\n",
       "      <td>NaN</td>\n",
       "      <td>NaN</td>\n",
       "      <td>NaN</td>\n",
       "      <td>NaN</td>\n",
       "    </tr>\n",
       "  </tbody>\n",
       "</table>\n",
       "</div>"
      ],
      "text/plain": [
       "     64   65   66   67   69   70   72   73\n",
       "4   NaN  NaN  NaN  NaN  NaN  NaN  NaN  NaN\n",
       "14  NaN  NaN  NaN  NaN  NaN  NaN  NaN  NaN\n",
       "13  NaN  NaN  NaN  NaN  NaN  NaN  NaN  NaN\n",
       "5   NaN  NaN  NaN  NaN  NaN  NaN  NaN  NaN"
      ]
     },
     "execution_count": 10,
     "metadata": {},
     "output_type": "execute_result"
    }
   ],
   "source": [
    "u_p_sim = UserProjectSimilarity()\n",
    "u_p_sim.create_sim_table()"
   ]
  },
  {
   "cell_type": "code",
   "execution_count": 11,
   "metadata": {},
   "outputs": [
    {
     "data": {
      "text/plain": [
       "b'\\x80\\x03cpandas.core.frame\\nDataFrame\\nq\\x00)\\x81q\\x01}q\\x02(X\\x05\\x00\\x00\\x00_dataq\\x03cpandas.core.internals.managers\\nBlockManager\\nq\\x04)\\x81q\\x05(]q\\x06(cpandas.core.indexes.base\\n_new_Index\\nq\\x07cpandas.core.indexes.numeric\\nInt64Index\\nq\\x08}q\\t(X\\x04\\x00\\x00\\x00dataq\\ncnumpy.core.multiarray\\n_reconstruct\\nq\\x0bcnumpy\\nndarray\\nq\\x0cK\\x00\\x85q\\rC\\x01bq\\x0e\\x87q\\x0fRq\\x10(K\\x01K\\x08\\x85q\\x11cnumpy\\ndtype\\nq\\x12X\\x02\\x00\\x00\\x00i8q\\x13K\\x00K\\x01\\x87q\\x14Rq\\x15(K\\x03X\\x01\\x00\\x00\\x00<q\\x16NNNJ\\xff\\xff\\xff\\xffJ\\xff\\xff\\xff\\xffK\\x00tq\\x17b\\x89C@@\\x00\\x00\\x00\\x00\\x00\\x00\\x00A\\x00\\x00\\x00\\x00\\x00\\x00\\x00B\\x00\\x00\\x00\\x00\\x00\\x00\\x00C\\x00\\x00\\x00\\x00\\x00\\x00\\x00E\\x00\\x00\\x00\\x00\\x00\\x00\\x00F\\x00\\x00\\x00\\x00\\x00\\x00\\x00H\\x00\\x00\\x00\\x00\\x00\\x00\\x00I\\x00\\x00\\x00\\x00\\x00\\x00\\x00q\\x18tq\\x19bX\\x04\\x00\\x00\\x00nameq\\x1aNu\\x86q\\x1bRq\\x1ch\\x07h\\x08}q\\x1d(h\\nh\\x0bh\\x0cK\\x00\\x85q\\x1eh\\x0e\\x87q\\x1fRq (K\\x01K\\x04\\x85q!h\\x15\\x89C \\x04\\x00\\x00\\x00\\x00\\x00\\x00\\x00\\x0e\\x00\\x00\\x00\\x00\\x00\\x00\\x00\\r\\x00\\x00\\x00\\x00\\x00\\x00\\x00\\x05\\x00\\x00\\x00\\x00\\x00\\x00\\x00q\"tq#bh\\x1aNu\\x86q$Rq%e]q&h\\x0bh\\x0cK\\x00\\x85q\\'h\\x0e\\x87q(Rq)(K\\x01K\\x08K\\x04\\x86q*h\\x12X\\x02\\x00\\x00\\x00O8q+K\\x00K\\x01\\x87q,Rq-(K\\x03X\\x01\\x00\\x00\\x00|q.NNNJ\\xff\\xff\\xff\\xffJ\\xff\\xff\\xff\\xffK?tq/b\\x89]q0(G\\x7f\\xf8\\x00\\x00\\x00\\x00\\x00\\x00G\\x7f\\xf8\\x00\\x00\\x00\\x00\\x00\\x00G\\x7f\\xf8\\x00\\x00\\x00\\x00\\x00\\x00G\\x7f\\xf8\\x00\\x00\\x00\\x00\\x00\\x00G\\x7f\\xf8\\x00\\x00\\x00\\x00\\x00\\x00G\\x7f\\xf8\\x00\\x00\\x00\\x00\\x00\\x00G\\x7f\\xf8\\x00\\x00\\x00\\x00\\x00\\x00G\\x7f\\xf8\\x00\\x00\\x00\\x00\\x00\\x00G\\x7f\\xf8\\x00\\x00\\x00\\x00\\x00\\x00G\\x7f\\xf8\\x00\\x00\\x00\\x00\\x00\\x00G\\x7f\\xf8\\x00\\x00\\x00\\x00\\x00\\x00G\\x7f\\xf8\\x00\\x00\\x00\\x00\\x00\\x00G\\x7f\\xf8\\x00\\x00\\x00\\x00\\x00\\x00G\\x7f\\xf8\\x00\\x00\\x00\\x00\\x00\\x00G\\x7f\\xf8\\x00\\x00\\x00\\x00\\x00\\x00G\\x7f\\xf8\\x00\\x00\\x00\\x00\\x00\\x00G\\x7f\\xf8\\x00\\x00\\x00\\x00\\x00\\x00G\\x7f\\xf8\\x00\\x00\\x00\\x00\\x00\\x00G\\x7f\\xf8\\x00\\x00\\x00\\x00\\x00\\x00G\\x7f\\xf8\\x00\\x00\\x00\\x00\\x00\\x00G\\x7f\\xf8\\x00\\x00\\x00\\x00\\x00\\x00G\\x7f\\xf8\\x00\\x00\\x00\\x00\\x00\\x00G\\x7f\\xf8\\x00\\x00\\x00\\x00\\x00\\x00G\\x7f\\xf8\\x00\\x00\\x00\\x00\\x00\\x00G\\x7f\\xf8\\x00\\x00\\x00\\x00\\x00\\x00G\\x7f\\xf8\\x00\\x00\\x00\\x00\\x00\\x00G\\x7f\\xf8\\x00\\x00\\x00\\x00\\x00\\x00G\\x7f\\xf8\\x00\\x00\\x00\\x00\\x00\\x00G\\x7f\\xf8\\x00\\x00\\x00\\x00\\x00\\x00G\\x7f\\xf8\\x00\\x00\\x00\\x00\\x00\\x00G\\x7f\\xf8\\x00\\x00\\x00\\x00\\x00\\x00G\\x7f\\xf8\\x00\\x00\\x00\\x00\\x00\\x00etq1ba]q2h\\x07h\\x08}q3(h\\nh\\x0bh\\x0cK\\x00\\x85q4h\\x0e\\x87q5Rq6(K\\x01K\\x08\\x85q7h\\x15\\x89C@@\\x00\\x00\\x00\\x00\\x00\\x00\\x00A\\x00\\x00\\x00\\x00\\x00\\x00\\x00B\\x00\\x00\\x00\\x00\\x00\\x00\\x00C\\x00\\x00\\x00\\x00\\x00\\x00\\x00E\\x00\\x00\\x00\\x00\\x00\\x00\\x00F\\x00\\x00\\x00\\x00\\x00\\x00\\x00H\\x00\\x00\\x00\\x00\\x00\\x00\\x00I\\x00\\x00\\x00\\x00\\x00\\x00\\x00q8tq9bh\\x1aNu\\x86q:Rq;a}q<X\\x06\\x00\\x00\\x000.14.1q=}q>(X\\x04\\x00\\x00\\x00axesq?h\\x06X\\x06\\x00\\x00\\x00blocksq@]qA}qB(X\\x06\\x00\\x00\\x00valuesqCh)X\\x08\\x00\\x00\\x00mgr_locsqDcbuiltins\\nslice\\nqEK\\x00K\\x08K\\x01\\x87qFRqGuaustqHbX\\x04\\x00\\x00\\x00_typqIX\\t\\x00\\x00\\x00dataframeqJX\\t\\x00\\x00\\x00_metadataqK]qLX\\x05\\x00\\x00\\x00attrsqM}qNub.'"
      ]
     },
     "execution_count": 11,
     "metadata": {},
     "output_type": "execute_result"
    }
   ],
   "source": [
    "u_p_sim.get_picked_sim_table()"
   ]
  },
  {
   "cell_type": "code",
   "execution_count": 12,
   "metadata": {},
   "outputs": [
    {
     "data": {
      "text/html": [
       "<div>\n",
       "<style scoped>\n",
       "    .dataframe tbody tr th:only-of-type {\n",
       "        vertical-align: middle;\n",
       "    }\n",
       "\n",
       "    .dataframe tbody tr th {\n",
       "        vertical-align: top;\n",
       "    }\n",
       "\n",
       "    .dataframe thead th {\n",
       "        text-align: right;\n",
       "    }\n",
       "</style>\n",
       "<table border=\"1\" class=\"dataframe\">\n",
       "  <thead>\n",
       "    <tr style=\"text-align: right;\">\n",
       "      <th></th>\n",
       "      <th>variable</th>\n",
       "      <th>value</th>\n",
       "    </tr>\n",
       "  </thead>\n",
       "  <tbody>\n",
       "    <tr>\n",
       "      <th>0</th>\n",
       "      <td>64</td>\n",
       "      <td>NaN</td>\n",
       "    </tr>\n",
       "    <tr>\n",
       "      <th>1</th>\n",
       "      <td>65</td>\n",
       "      <td>NaN</td>\n",
       "    </tr>\n",
       "    <tr>\n",
       "      <th>2</th>\n",
       "      <td>66</td>\n",
       "      <td>NaN</td>\n",
       "    </tr>\n",
       "    <tr>\n",
       "      <th>3</th>\n",
       "      <td>67</td>\n",
       "      <td>NaN</td>\n",
       "    </tr>\n",
       "    <tr>\n",
       "      <th>4</th>\n",
       "      <td>69</td>\n",
       "      <td>NaN</td>\n",
       "    </tr>\n",
       "    <tr>\n",
       "      <th>5</th>\n",
       "      <td>70</td>\n",
       "      <td>NaN</td>\n",
       "    </tr>\n",
       "    <tr>\n",
       "      <th>6</th>\n",
       "      <td>72</td>\n",
       "      <td>NaN</td>\n",
       "    </tr>\n",
       "    <tr>\n",
       "      <th>7</th>\n",
       "      <td>73</td>\n",
       "      <td>NaN</td>\n",
       "    </tr>\n",
       "  </tbody>\n",
       "</table>\n",
       "</div>"
      ],
      "text/plain": [
       "   variable value\n",
       "0        64   NaN\n",
       "1        65   NaN\n",
       "2        66   NaN\n",
       "3        67   NaN\n",
       "4        69   NaN\n",
       "5        70   NaN\n",
       "6        72   NaN\n",
       "7        73   NaN"
      ]
     },
     "execution_count": 12,
     "metadata": {},
     "output_type": "execute_result"
    }
   ],
   "source": [
    "# Retrieve a user, say 13.\n",
    "sorted_projects = u_p_sim.get_sim_table().loc[[13]].melt().sort_values('value',ascending=False)\n",
    "sorted_projects"
   ]
  },
  {
   "cell_type": "code",
   "execution_count": 13,
   "metadata": {},
   "outputs": [
    {
     "data": {
      "text/plain": [
       "[64, 65, 66, 67, 69, 70, 72, 73]"
      ]
     },
     "execution_count": 13,
     "metadata": {},
     "output_type": "execute_result"
    }
   ],
   "source": [
    "sorted_projects.head(100)['variable'].to_list()"
   ]
  },
  {
   "cell_type": "code",
   "execution_count": 27,
   "metadata": {},
   "outputs": [
    {
     "name": "stdout",
     "output_type": "stream",
     "text": [
      "None\n"
     ]
    }
   ],
   "source": [
    "from apps.ml.models import UserProjectRelation\n",
    "obj = UserProjectRelation.objects.last()\n",
    "print(obj)\n",
    "# df = pickle.loads(obj.data_frame)\n",
    "# df"
   ]
  },
  {
   "cell_type": "markdown",
   "metadata": {},
   "source": [
    "## Based on Projects that a User interacts with in the past"
   ]
  },
  {
   "cell_type": "markdown",
   "metadata": {},
   "source": [
    "### How to compare similarity of two projects P and Q\n",
    "- Fields\n",
    "- Tags\n",
    "- Members"
   ]
  },
  {
   "cell_type": "code",
   "execution_count": null,
   "metadata": {},
   "outputs": [],
   "source": []
  }
 ],
 "metadata": {
  "kernelspec": {
   "display_name": "Django Shell-Plus",
   "language": "python",
   "name": "django_extensions"
  },
  "language_info": {
   "codemirror_mode": {
    "name": "ipython",
    "version": 3
   },
   "file_extension": ".py",
   "mimetype": "text/x-python",
   "name": "python",
   "nbconvert_exporter": "python",
   "pygments_lexer": "ipython3",
   "version": "3.7.7"
  }
 },
 "nbformat": 4,
 "nbformat_minor": 4
}
