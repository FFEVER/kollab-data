{
 "cells": [
  {
   "cell_type": "markdown",
   "metadata": {},
   "source": [
    "# Setup Django"
   ]
  },
  {
   "cell_type": "code",
   "execution_count": 3,
   "metadata": {},
   "outputs": [],
   "source": [
    "# import os, sys\n",
    "# PWD = os.getenv('PWD')\n",
    "# os.chdir(PWD)\n",
    "# sys.path.insert(0, os.getenv('PWD'))\n",
    "# os.environ.setdefault(\"DJANGO_SETTINGS_MODULE\", \"local_settings.py\")\n",
    "# import django\n",
    "# django.setup()"
   ]
  },
  {
   "cell_type": "code",
   "execution_count": 7,
   "metadata": {},
   "outputs": [],
   "source": [
    "os.environ[\"DJANGO_ALLOW_ASYNC_UNSAFE\"] = \"true\""
   ]
  },
  {
   "cell_type": "markdown",
   "metadata": {},
   "source": [
    "# Preprocessing"
   ]
  },
  {
   "cell_type": "code",
   "execution_count": 11,
   "metadata": {},
   "outputs": [],
   "source": [
    "from apps.kstorage.models import User, Project\n",
    "import pandas as pd"
   ]
  },
  {
   "cell_type": "code",
   "execution_count": 16,
   "metadata": {},
   "outputs": [
    {
     "data": {
      "text/html": [
       "<div>\n",
       "<style scoped>\n",
       "    .dataframe tbody tr th:only-of-type {\n",
       "        vertical-align: middle;\n",
       "    }\n",
       "\n",
       "    .dataframe tbody tr th {\n",
       "        vertical-align: top;\n",
       "    }\n",
       "\n",
       "    .dataframe thead th {\n",
       "        text-align: right;\n",
       "    }\n",
       "</style>\n",
       "<table border=\"1\" class=\"dataframe\">\n",
       "  <thead>\n",
       "    <tr style=\"text-align: right;\">\n",
       "      <th></th>\n",
       "      <th>id</th>\n",
       "      <th>email</th>\n",
       "      <th>role</th>\n",
       "      <th>faculty_id</th>\n",
       "      <th>expertises</th>\n",
       "      <th>skills</th>\n",
       "      <th>year</th>\n",
       "    </tr>\n",
       "  </thead>\n",
       "  <tbody>\n",
       "    <tr>\n",
       "      <th>13</th>\n",
       "      <td>13</td>\n",
       "      <td>ben@gmail.com</td>\n",
       "      <td>student</td>\n",
       "      <td>1</td>\n",
       "      <td>[[2763, None, None]]</td>\n",
       "      <td>[Chinese, Excel]</td>\n",
       "      <td>1</td>\n",
       "    </tr>\n",
       "    <tr>\n",
       "      <th>14</th>\n",
       "      <td>14</td>\n",
       "      <td>user1@gmail.com</td>\n",
       "      <td>student</td>\n",
       "      <td>1</td>\n",
       "      <td>[[2763, None, None], [4819, 4820, 4842], [2912...</td>\n",
       "      <td>[quantum]</td>\n",
       "      <td>1</td>\n",
       "    </tr>\n",
       "    <tr>\n",
       "      <th>5</th>\n",
       "      <td>5</td>\n",
       "      <td>earn@gmail.com</td>\n",
       "      <td>student</td>\n",
       "      <td>2</td>\n",
       "      <td>[[2763, 2813, None]]</td>\n",
       "      <td>[AstronomicalScience, English]</td>\n",
       "      <td>1</td>\n",
       "    </tr>\n",
       "    <tr>\n",
       "      <th>4</th>\n",
       "      <td>4</td>\n",
       "      <td>eit@gmail.com</td>\n",
       "      <td>student</td>\n",
       "      <td>3</td>\n",
       "      <td>[[2838, 2859, 2863]]</td>\n",
       "      <td>[React]</td>\n",
       "      <td>1</td>\n",
       "    </tr>\n",
       "  </tbody>\n",
       "</table>\n",
       "</div>"
      ],
      "text/plain": [
       "    id            email     role  faculty_id  \\\n",
       "13  13    ben@gmail.com  student           1   \n",
       "14  14  user1@gmail.com  student           1   \n",
       "5    5   earn@gmail.com  student           2   \n",
       "4    4    eit@gmail.com  student           3   \n",
       "\n",
       "                                           expertises  \\\n",
       "13                               [[2763, None, None]]   \n",
       "14  [[2763, None, None], [4819, 4820, 4842], [2912...   \n",
       "5                                [[2763, 2813, None]]   \n",
       "4                                [[2838, 2859, 2863]]   \n",
       "\n",
       "                            skills year  \n",
       "13                [Chinese, Excel]    1  \n",
       "14                       [quantum]    1  \n",
       "5   [AstronomicalScience, English]    1  \n",
       "4                          [React]    1  "
      ]
     },
     "execution_count": 16,
     "metadata": {},
     "output_type": "execute_result"
    }
   ],
   "source": [
    "u_df = pd.DataFrame(list(User.objects.all().values()), index=User.objects.values_list('id', flat=True))\n",
    "u_df"
   ]
  },
  {
   "cell_type": "code",
   "execution_count": null,
   "metadata": {},
   "outputs": [],
   "source": []
  }
 ],
 "metadata": {
  "kernelspec": {
   "display_name": "Django Shell-Plus",
   "language": "python",
   "name": "django_extensions"
  },
  "language_info": {
   "codemirror_mode": {
    "name": "ipython",
    "version": 3
   },
   "file_extension": ".py",
   "mimetype": "text/x-python",
   "name": "python",
   "nbconvert_exporter": "python",
   "pygments_lexer": "ipython3",
   "version": "3.7.7"
  }
 },
 "nbformat": 4,
 "nbformat_minor": 4
}
